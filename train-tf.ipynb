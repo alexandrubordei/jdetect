{
 "cells": [
  {
   "cell_type": "code",
   "execution_count": 12,
   "id": "75cb1342",
   "metadata": {},
   "outputs": [],
   "source": [
    "import torch\n",
    "import tensorflow as tf\n",
    "from tensorflow.keras import layers, models\n",
    "import numpy as np\n",
    "MAX_LENGTH=250"
   ]
  },
  {
   "cell_type": "code",
   "execution_count": 20,
   "id": "fd9622c7",
   "metadata": {},
   "outputs": [],
   "source": [
    "processed_waveforms = torch.load(\"processed_waveforms.pt\")\n",
    "processed_waveforms_np = processed_waveforms.numpy()\n",
    "#processed_waveforms_tf = tf.convert_to_tensor(processed_waveforms_np, dtype=tf.float32)\n",
    "#processed_waveforms_tf"
   ]
  },
  {
   "cell_type": "code",
   "execution_count": 25,
   "id": "d30fb575",
   "metadata": {},
   "outputs": [],
   "source": [
    "import pandas as pd\n",
    "from sklearn.preprocessing import LabelEncoder\n",
    "\n",
    "labels_df = pd.read_parquet('labels.parquet')\n",
    "labels_df.head()\n",
    "\n",
    "label_encoder = LabelEncoder()\n",
    "input_labels = label_encoder.fit_transform(labels_df['label'].values)\n",
    "\n",
    "num_classes = len(np.unique(input_labels))"
   ]
  },
  {
   "cell_type": "code",
   "execution_count": 28,
   "id": "70f92741",
   "metadata": {},
   "outputs": [
    {
     "data": {
      "text/plain": [
       "14835"
      ]
     },
     "execution_count": 28,
     "metadata": {},
     "output_type": "execute_result"
    }
   ],
   "source": [
    "len(input_labels)"
   ]
  },
  {
   "cell_type": "code",
   "execution_count": 30,
   "id": "0766acf0",
   "metadata": {},
   "outputs": [
    {
     "data": {
      "text/plain": [
       "(14835, 1, 40, 250)"
      ]
     },
     "execution_count": 30,
     "metadata": {},
     "output_type": "execute_result"
    }
   ],
   "source": [
    "processed_waveforms_np.shape"
   ]
  },
  {
   "cell_type": "code",
   "execution_count": 54,
   "id": "7aae7e82",
   "metadata": {},
   "outputs": [],
   "source": [
    "from sklearn.model_selection import train_test_split\n",
    "X_train, X_test, y_train, y_test = train_test_split(processed_waveforms_np, input_labels, test_size=0.2, random_state=42)"
   ]
  },
  {
   "cell_type": "code",
   "execution_count": 58,
   "id": "dd370446",
   "metadata": {},
   "outputs": [
    {
     "name": "stdout",
     "output_type": "stream",
     "text": [
      "Model and optimizer initialized.\n"
     ]
    }
   ],
   "source": [
    "\n",
    "num_classes = len(np.unique(input_labels))\n",
    "\n",
    "class KeywordSpottingModel(tf.keras.Model):\n",
    "    def __init__(self, num_classes):\n",
    "        super().__init__()\n",
    "        self.conv1 = layers.Conv2D(32, kernel_size=3, activation='relu')\n",
    "        self.pool1 = layers.MaxPooling2D(pool_size=2)\n",
    "        self.conv2 = layers.Conv2D(64, kernel_size=3, activation='relu')\n",
    "        self.pool2 = layers.MaxPooling2D(pool_size=2)\n",
    "        self.flatten = layers.Flatten()\n",
    "        self.fc1 = layers.Dense(128, activation='relu')\n",
    "        self.dropout = layers.Dropout(0.5)\n",
    "        self.fc2 = layers.Dense(num_classes, activation='softmax')\n",
    "\n",
    "    def call(self, x):\n",
    "        x = self.conv1(x)\n",
    "        x = self.pool1(x)\n",
    "        x = self.conv2(x)\n",
    "        x = self.pool2(x)\n",
    "        x = self.flatten(x)\n",
    "        x = self.fc1(x)\n",
    "        x = self.dropout(x)\n",
    "        return self.fc2(x)\n",
    "\n",
    "# Example input shape: (batch_size, 40, MAX_LENGTH, 1)\n",
    "input_shape = (40, MAX_LENGTH)\n",
    "model = KeywordSpottingModel(num_classes)\n",
    "\n",
    "model.compile(\n",
    "    optimizer=tf.keras.optimizers.SGD(learning_rate=0.0001, weight_decay=1e-4),\n",
    "    loss='sparse_categorical_crossentropy',\n",
    "    metrics=['accuracy']\n",
    ")\n",
    "print(\"Model and optimizer initialized.\")\n"
   ]
  },
  {
   "cell_type": "code",
   "execution_count": 59,
   "id": "f8d5911c",
   "metadata": {},
   "outputs": [
    {
     "data": {
      "text/plain": [
       "(11868, 1, 40, 250)"
      ]
     },
     "execution_count": 59,
     "metadata": {},
     "output_type": "execute_result"
    }
   ],
   "source": [
    "X_train.shape"
   ]
  },
  {
   "cell_type": "code",
   "execution_count": 60,
   "id": "4d2dec81",
   "metadata": {},
   "outputs": [
    {
     "data": {
      "text/plain": [
       "(11868,)"
      ]
     },
     "execution_count": 60,
     "metadata": {},
     "output_type": "execute_result"
    }
   ],
   "source": [
    "y_train.shape"
   ]
  },
  {
   "cell_type": "code",
   "execution_count": 65,
   "id": "5a5de5ff",
   "metadata": {},
   "outputs": [
    {
     "data": {
      "text/plain": [
       "(11868, 40, 250, 1)"
      ]
     },
     "execution_count": 65,
     "metadata": {},
     "output_type": "execute_result"
    }
   ],
   "source": [
    "batch_size = 256\n",
    "num_epochs = 100\n",
    "\n",
    "# If your data is (batch, 1, 40, 250), convert to (batch, 40, 250, 1)\n",
    "\n",
    "X_train_t = np.transpose(X_train, (0, 2, 3, 1))\n",
    "X_test_t = np.transpose(X_test, (0, 2, 3, 1))\n",
    "\n",
    "\n",
    "X_train_t.shape"
   ]
  },
  {
   "cell_type": "code",
   "execution_count": 71,
   "id": "468e7361",
   "metadata": {},
   "outputs": [
    {
     "name": "stdout",
     "output_type": "stream",
     "text": [
      "[[-310.17117 ]\n",
      " [-302.32654 ]\n",
      " [-287.1179  ]\n",
      " [-274.86465 ]\n",
      " [-265.47418 ]\n",
      " [-258.0353  ]\n",
      " [-250.823   ]\n",
      " [-241.94958 ]\n",
      " [-230.24306 ]\n",
      " [-214.72646 ]\n",
      " [-189.89095 ]\n",
      " [-159.40329 ]\n",
      " [-127.76908 ]\n",
      " [-100.01271 ]\n",
      " [ -77.012314]\n",
      " [ -59.00333 ]\n",
      " [ -45.45096 ]\n",
      " [ -35.68926 ]\n",
      " [ -28.722294]\n",
      " [ -23.49182 ]\n",
      " [ -19.44215 ]\n",
      " [ -16.928602]\n",
      " [ -16.61527 ]\n",
      " [ -19.050562]\n",
      " [ -24.706367]\n",
      " [ -33.24147 ]\n",
      " [ -42.829643]\n",
      " [ -52.685272]\n",
      " [ -63.11634 ]\n",
      " [ -73.5384  ]\n",
      " [ -83.231895]\n",
      " [ -91.68851 ]\n",
      " [ -98.61966 ]\n",
      " [-105.63673 ]\n",
      " [-114.3607  ]\n",
      " [-125.00774 ]\n",
      " [-132.39197 ]\n",
      " [-132.48988 ]\n",
      " [-126.91919 ]\n",
      " [-113.65961 ]\n",
      " [ -93.74307 ]\n",
      " [ -74.63668 ]\n",
      " [ -59.072422]\n",
      " [ -47.25016 ]\n",
      " [ -39.32996 ]\n",
      " [ -35.142258]\n",
      " [ -33.951862]\n",
      " [ -34.81804 ]\n",
      " [ -36.36661 ]\n",
      " [ -38.702465]\n",
      " [ -42.77099 ]\n",
      " [ -48.14795 ]\n",
      " [ -53.874588]\n",
      " [ -58.98803 ]\n",
      " [ -62.85082 ]\n",
      " [ -65.80484 ]\n",
      " [ -68.826164]\n",
      " [ -72.586494]\n",
      " [ -77.7146  ]\n",
      " [ -84.73167 ]\n",
      " [ -94.17538 ]\n",
      " [-106.89946 ]\n",
      " [-123.535255]\n",
      " [-143.99301 ]\n",
      " [-168.33667 ]\n",
      " [-195.9803  ]\n",
      " [-221.37874 ]\n",
      " [-236.52924 ]\n",
      " [-242.34152 ]\n",
      " [-245.57257 ]\n",
      " [-248.54979 ]\n",
      " [-252.13557 ]\n",
      " [-256.69656 ]\n",
      " [-262.21255 ]\n",
      " [-268.5631  ]\n",
      " [-275.22302 ]\n",
      " [-281.7084  ]\n",
      " [-288.18225 ]\n",
      " [-294.5637  ]\n",
      " [-300.0082  ]\n",
      " [-304.32874 ]\n",
      " [-307.25168 ]\n",
      " [-308.33255 ]\n",
      " [-308.09332 ]\n",
      " [-307.77512 ]\n",
      " [-308.00055 ]\n",
      " [-308.87424 ]\n",
      " [-309.82922 ]\n",
      " [-310.467   ]\n",
      " [-311.07843 ]\n",
      " [-311.9879  ]\n",
      " [-312.71667 ]\n",
      " [   0.      ]\n",
      " [   0.      ]\n",
      " [   0.      ]\n",
      " [   0.      ]\n",
      " [   0.      ]\n",
      " [   0.      ]\n",
      " [   0.      ]\n",
      " [   0.      ]\n",
      " [   0.      ]\n",
      " [   0.      ]\n",
      " [   0.      ]\n",
      " [   0.      ]\n",
      " [   0.      ]\n",
      " [   0.      ]\n",
      " [   0.      ]\n",
      " [   0.      ]\n",
      " [   0.      ]\n",
      " [   0.      ]\n",
      " [   0.      ]\n",
      " [   0.      ]\n",
      " [   0.      ]\n",
      " [   0.      ]\n",
      " [   0.      ]\n",
      " [   0.      ]\n",
      " [   0.      ]\n",
      " [   0.      ]\n",
      " [   0.      ]\n",
      " [   0.      ]\n",
      " [   0.      ]\n",
      " [   0.      ]\n",
      " [   0.      ]\n",
      " [   0.      ]\n",
      " [   0.      ]\n",
      " [   0.      ]\n",
      " [   0.      ]\n",
      " [   0.      ]\n",
      " [   0.      ]\n",
      " [   0.      ]\n",
      " [   0.      ]\n",
      " [   0.      ]\n",
      " [   0.      ]\n",
      " [   0.      ]\n",
      " [   0.      ]\n",
      " [   0.      ]\n",
      " [   0.      ]\n",
      " [   0.      ]\n",
      " [   0.      ]\n",
      " [   0.      ]\n",
      " [   0.      ]\n",
      " [   0.      ]\n",
      " [   0.      ]\n",
      " [   0.      ]\n",
      " [   0.      ]\n",
      " [   0.      ]\n",
      " [   0.      ]\n",
      " [   0.      ]\n",
      " [   0.      ]\n",
      " [   0.      ]\n",
      " [   0.      ]\n",
      " [   0.      ]\n",
      " [   0.      ]\n",
      " [   0.      ]\n",
      " [   0.      ]\n",
      " [   0.      ]\n",
      " [   0.      ]\n",
      " [   0.      ]\n",
      " [   0.      ]\n",
      " [   0.      ]\n",
      " [   0.      ]\n",
      " [   0.      ]\n",
      " [   0.      ]\n",
      " [   0.      ]\n",
      " [   0.      ]\n",
      " [   0.      ]\n",
      " [   0.      ]\n",
      " [   0.      ]\n",
      " [   0.      ]\n",
      " [   0.      ]\n",
      " [   0.      ]\n",
      " [   0.      ]\n",
      " [   0.      ]\n",
      " [   0.      ]\n",
      " [   0.      ]\n",
      " [   0.      ]\n",
      " [   0.      ]\n",
      " [   0.      ]\n",
      " [   0.      ]\n",
      " [   0.      ]\n",
      " [   0.      ]\n",
      " [   0.      ]\n",
      " [   0.      ]\n",
      " [   0.      ]\n",
      " [   0.      ]\n",
      " [   0.      ]\n",
      " [   0.      ]\n",
      " [   0.      ]\n",
      " [   0.      ]\n",
      " [   0.      ]\n",
      " [   0.      ]\n",
      " [   0.      ]\n",
      " [   0.      ]\n",
      " [   0.      ]\n",
      " [   0.      ]\n",
      " [   0.      ]\n",
      " [   0.      ]\n",
      " [   0.      ]\n",
      " [   0.      ]\n",
      " [   0.      ]\n",
      " [   0.      ]\n",
      " [   0.      ]\n",
      " [   0.      ]\n",
      " [   0.      ]\n",
      " [   0.      ]\n",
      " [   0.      ]\n",
      " [   0.      ]\n",
      " [   0.      ]\n",
      " [   0.      ]\n",
      " [   0.      ]\n",
      " [   0.      ]\n",
      " [   0.      ]\n",
      " [   0.      ]\n",
      " [   0.      ]\n",
      " [   0.      ]\n",
      " [   0.      ]\n",
      " [   0.      ]\n",
      " [   0.      ]\n",
      " [   0.      ]\n",
      " [   0.      ]\n",
      " [   0.      ]\n",
      " [   0.      ]\n",
      " [   0.      ]\n",
      " [   0.      ]\n",
      " [   0.      ]\n",
      " [   0.      ]\n",
      " [   0.      ]\n",
      " [   0.      ]\n",
      " [   0.      ]\n",
      " [   0.      ]\n",
      " [   0.      ]\n",
      " [   0.      ]\n",
      " [   0.      ]\n",
      " [   0.      ]\n",
      " [   0.      ]\n",
      " [   0.      ]\n",
      " [   0.      ]\n",
      " [   0.      ]\n",
      " [   0.      ]\n",
      " [   0.      ]\n",
      " [   0.      ]\n",
      " [   0.      ]\n",
      " [   0.      ]\n",
      " [   0.      ]\n",
      " [   0.      ]\n",
      " [   0.      ]\n",
      " [   0.      ]\n",
      " [   0.      ]\n",
      " [   0.      ]\n",
      " [   0.      ]]\n"
     ]
    }
   ],
   "source": [
    "print(X_train_t[0][0])"
   ]
  },
  {
   "cell_type": "code",
   "execution_count": 66,
   "id": "c50ee8fa",
   "metadata": {},
   "outputs": [
    {
     "name": "stdout",
     "output_type": "stream",
     "text": [
      "Epoch 1/100\n",
      "\u001b[1m47/47\u001b[0m \u001b[32m━━━━━━━━━━━━━━━━━━━━\u001b[0m\u001b[37m\u001b[0m \u001b[1m17s\u001b[0m 354ms/step - accuracy: 0.8881 - loss: 0.3143 - val_accuracy: 0.8669 - val_loss: 0.3552\n",
      "Epoch 2/100\n",
      "\u001b[1m47/47\u001b[0m \u001b[32m━━━━━━━━━━━━━━━━━━━━\u001b[0m\u001b[37m\u001b[0m \u001b[1m17s\u001b[0m 357ms/step - accuracy: 0.8894 - loss: 0.3155 - val_accuracy: 0.8675 - val_loss: 0.3569\n",
      "Epoch 3/100\n",
      "\u001b[1m47/47\u001b[0m \u001b[32m━━━━━━━━━━━━━━━━━━━━\u001b[0m\u001b[37m\u001b[0m \u001b[1m17s\u001b[0m 363ms/step - accuracy: 0.8885 - loss: 0.3171 - val_accuracy: 0.8662 - val_loss: 0.3633\n",
      "Epoch 4/100\n",
      "\u001b[1m47/47\u001b[0m \u001b[32m━━━━━━━━━━━━━━━━━━━━\u001b[0m\u001b[37m\u001b[0m \u001b[1m17s\u001b[0m 371ms/step - accuracy: 0.8895 - loss: 0.3128 - val_accuracy: 0.8750 - val_loss: 0.3467\n",
      "Epoch 5/100\n",
      "\u001b[1m47/47\u001b[0m \u001b[32m━━━━━━━━━━━━━━━━━━━━\u001b[0m\u001b[37m\u001b[0m \u001b[1m18s\u001b[0m 373ms/step - accuracy: 0.8922 - loss: 0.3047 - val_accuracy: 0.8584 - val_loss: 0.3732\n",
      "Epoch 6/100\n",
      "\u001b[1m47/47\u001b[0m \u001b[32m━━━━━━━━━━━━━━━━━━━━\u001b[0m\u001b[37m\u001b[0m \u001b[1m18s\u001b[0m 378ms/step - accuracy: 0.8921 - loss: 0.3058 - val_accuracy: 0.8733 - val_loss: 0.3421\n",
      "Epoch 7/100\n",
      "\u001b[1m47/47\u001b[0m \u001b[32m━━━━━━━━━━━━━━━━━━━━\u001b[0m\u001b[37m\u001b[0m \u001b[1m18s\u001b[0m 375ms/step - accuracy: 0.8999 - loss: 0.2934 - val_accuracy: 0.8669 - val_loss: 0.3542\n",
      "Epoch 8/100\n",
      "\u001b[1m47/47\u001b[0m \u001b[32m━━━━━━━━━━━━━━━━━━━━\u001b[0m\u001b[37m\u001b[0m \u001b[1m18s\u001b[0m 378ms/step - accuracy: 0.8955 - loss: 0.2984 - val_accuracy: 0.8750 - val_loss: 0.3378\n",
      "Epoch 9/100\n",
      "\u001b[1m47/47\u001b[0m \u001b[32m━━━━━━━━━━━━━━━━━━━━\u001b[0m\u001b[37m\u001b[0m \u001b[1m18s\u001b[0m 377ms/step - accuracy: 0.8999 - loss: 0.2911 - val_accuracy: 0.8716 - val_loss: 0.3368\n",
      "Epoch 10/100\n",
      "\u001b[1m47/47\u001b[0m \u001b[32m━━━━━━━━━━━━━━━━━━━━\u001b[0m\u001b[37m\u001b[0m \u001b[1m18s\u001b[0m 376ms/step - accuracy: 0.8958 - loss: 0.2922 - val_accuracy: 0.8739 - val_loss: 0.3326\n",
      "Epoch 11/100\n",
      "\u001b[1m47/47\u001b[0m \u001b[32m━━━━━━━━━━━━━━━━━━━━\u001b[0m\u001b[37m\u001b[0m \u001b[1m18s\u001b[0m 378ms/step - accuracy: 0.8989 - loss: 0.2888 - val_accuracy: 0.8787 - val_loss: 0.3266\n",
      "Epoch 12/100\n",
      "\u001b[1m47/47\u001b[0m \u001b[32m━━━━━━━━━━━━━━━━━━━━\u001b[0m\u001b[37m\u001b[0m \u001b[1m18s\u001b[0m 377ms/step - accuracy: 0.9027 - loss: 0.2813 - val_accuracy: 0.8729 - val_loss: 0.3344\n",
      "Epoch 13/100\n",
      "\u001b[1m47/47\u001b[0m \u001b[32m━━━━━━━━━━━━━━━━━━━━\u001b[0m\u001b[37m\u001b[0m \u001b[1m18s\u001b[0m 379ms/step - accuracy: 0.9014 - loss: 0.2808 - val_accuracy: 0.8810 - val_loss: 0.3280\n",
      "Epoch 14/100\n",
      "\u001b[1m47/47\u001b[0m \u001b[32m━━━━━━━━━━━━━━━━━━━━\u001b[0m\u001b[37m\u001b[0m \u001b[1m18s\u001b[0m 378ms/step - accuracy: 0.9052 - loss: 0.2754 - val_accuracy: 0.8770 - val_loss: 0.3316\n",
      "Epoch 15/100\n",
      "\u001b[1m47/47\u001b[0m \u001b[32m━━━━━━━━━━━━━━━━━━━━\u001b[0m\u001b[37m\u001b[0m \u001b[1m18s\u001b[0m 383ms/step - accuracy: 0.9039 - loss: 0.2803 - val_accuracy: 0.8780 - val_loss: 0.3341\n",
      "Epoch 16/100\n",
      "\u001b[1m47/47\u001b[0m \u001b[32m━━━━━━━━━━━━━━━━━━━━\u001b[0m\u001b[37m\u001b[0m \u001b[1m18s\u001b[0m 379ms/step - accuracy: 0.9092 - loss: 0.2646 - val_accuracy: 0.8797 - val_loss: 0.3212\n",
      "Epoch 17/100\n",
      "\u001b[1m47/47\u001b[0m \u001b[32m━━━━━━━━━━━━━━━━━━━━\u001b[0m\u001b[37m\u001b[0m \u001b[1m18s\u001b[0m 392ms/step - accuracy: 0.9101 - loss: 0.2643 - val_accuracy: 0.8787 - val_loss: 0.3215\n",
      "Epoch 18/100\n",
      "\u001b[1m47/47\u001b[0m \u001b[32m━━━━━━━━━━━━━━━━━━━━\u001b[0m\u001b[37m\u001b[0m \u001b[1m18s\u001b[0m 386ms/step - accuracy: 0.9052 - loss: 0.2714 - val_accuracy: 0.8793 - val_loss: 0.3230\n",
      "Epoch 19/100\n",
      "\u001b[1m47/47\u001b[0m \u001b[32m━━━━━━━━━━━━━━━━━━━━\u001b[0m\u001b[37m\u001b[0m \u001b[1m18s\u001b[0m 385ms/step - accuracy: 0.9070 - loss: 0.2612 - val_accuracy: 0.8601 - val_loss: 0.3688\n",
      "Epoch 20/100\n",
      "\u001b[1m47/47\u001b[0m \u001b[32m━━━━━━━━━━━━━━━━━━━━\u001b[0m\u001b[37m\u001b[0m \u001b[1m18s\u001b[0m 382ms/step - accuracy: 0.9062 - loss: 0.2700 - val_accuracy: 0.8851 - val_loss: 0.3113\n",
      "Epoch 21/100\n",
      "\u001b[1m47/47\u001b[0m \u001b[32m━━━━━━━━━━━━━━━━━━━━\u001b[0m\u001b[37m\u001b[0m \u001b[1m18s\u001b[0m 388ms/step - accuracy: 0.9142 - loss: 0.2530 - val_accuracy: 0.8807 - val_loss: 0.3177\n",
      "Epoch 22/100\n",
      "\u001b[1m47/47\u001b[0m \u001b[32m━━━━━━━━━━━━━━━━━━━━\u001b[0m\u001b[37m\u001b[0m \u001b[1m18s\u001b[0m 388ms/step - accuracy: 0.9121 - loss: 0.2581 - val_accuracy: 0.8773 - val_loss: 0.3291\n",
      "Epoch 23/100\n",
      "\u001b[1m47/47\u001b[0m \u001b[32m━━━━━━━━━━━━━━━━━━━━\u001b[0m\u001b[37m\u001b[0m \u001b[1m18s\u001b[0m 380ms/step - accuracy: 0.9132 - loss: 0.2491 - val_accuracy: 0.8861 - val_loss: 0.3054\n",
      "Epoch 24/100\n",
      "\u001b[1m47/47\u001b[0m \u001b[32m━━━━━━━━━━━━━━━━━━━━\u001b[0m\u001b[37m\u001b[0m \u001b[1m18s\u001b[0m 381ms/step - accuracy: 0.9128 - loss: 0.2562 - val_accuracy: 0.8864 - val_loss: 0.3152\n",
      "Epoch 25/100\n",
      "\u001b[1m47/47\u001b[0m \u001b[32m━━━━━━━━━━━━━━━━━━━━\u001b[0m\u001b[37m\u001b[0m \u001b[1m18s\u001b[0m 381ms/step - accuracy: 0.9152 - loss: 0.2472 - val_accuracy: 0.8837 - val_loss: 0.3114\n",
      "Epoch 26/100\n",
      "\u001b[1m47/47\u001b[0m \u001b[32m━━━━━━━━━━━━━━━━━━━━\u001b[0m\u001b[37m\u001b[0m \u001b[1m18s\u001b[0m 376ms/step - accuracy: 0.9117 - loss: 0.2602 - val_accuracy: 0.8898 - val_loss: 0.3026\n",
      "Epoch 27/100\n",
      "\u001b[1m47/47\u001b[0m \u001b[32m━━━━━━━━━━━━━━━━━━━━\u001b[0m\u001b[37m\u001b[0m \u001b[1m18s\u001b[0m 381ms/step - accuracy: 0.9208 - loss: 0.2364 - val_accuracy: 0.8820 - val_loss: 0.3146\n",
      "Epoch 28/100\n",
      "\u001b[1m47/47\u001b[0m \u001b[32m━━━━━━━━━━━━━━━━━━━━\u001b[0m\u001b[37m\u001b[0m \u001b[1m18s\u001b[0m 380ms/step - accuracy: 0.9178 - loss: 0.2433 - val_accuracy: 0.8888 - val_loss: 0.2996\n",
      "Epoch 29/100\n",
      "\u001b[1m47/47\u001b[0m \u001b[32m━━━━━━━━━━━━━━━━━━━━\u001b[0m\u001b[37m\u001b[0m \u001b[1m18s\u001b[0m 379ms/step - accuracy: 0.9179 - loss: 0.2408 - val_accuracy: 0.8726 - val_loss: 0.3332\n",
      "Epoch 30/100\n",
      "\u001b[1m47/47\u001b[0m \u001b[32m━━━━━━━━━━━━━━━━━━━━\u001b[0m\u001b[37m\u001b[0m \u001b[1m18s\u001b[0m 379ms/step - accuracy: 0.9220 - loss: 0.2361 - val_accuracy: 0.8911 - val_loss: 0.2951\n",
      "Epoch 31/100\n",
      "\u001b[1m47/47\u001b[0m \u001b[32m━━━━━━━━━━━━━━━━━━━━\u001b[0m\u001b[37m\u001b[0m \u001b[1m18s\u001b[0m 382ms/step - accuracy: 0.9251 - loss: 0.2312 - val_accuracy: 0.8938 - val_loss: 0.2909\n",
      "Epoch 32/100\n",
      "\u001b[1m47/47\u001b[0m \u001b[32m━━━━━━━━━━━━━━━━━━━━\u001b[0m\u001b[37m\u001b[0m \u001b[1m18s\u001b[0m 388ms/step - accuracy: 0.9211 - loss: 0.2368 - val_accuracy: 0.8898 - val_loss: 0.2956\n",
      "Epoch 33/100\n",
      "\u001b[1m47/47\u001b[0m \u001b[32m━━━━━━━━━━━━━━━━━━━━\u001b[0m\u001b[37m\u001b[0m \u001b[1m18s\u001b[0m 384ms/step - accuracy: 0.9265 - loss: 0.2289 - val_accuracy: 0.8948 - val_loss: 0.2883\n",
      "Epoch 34/100\n",
      "\u001b[1m47/47\u001b[0m \u001b[32m━━━━━━━━━━━━━━━━━━━━\u001b[0m\u001b[37m\u001b[0m \u001b[1m18s\u001b[0m 379ms/step - accuracy: 0.9267 - loss: 0.2209 - val_accuracy: 0.8959 - val_loss: 0.2874\n",
      "Epoch 35/100\n",
      "\u001b[1m47/47\u001b[0m \u001b[32m━━━━━━━━━━━━━━━━━━━━\u001b[0m\u001b[37m\u001b[0m \u001b[1m18s\u001b[0m 380ms/step - accuracy: 0.9219 - loss: 0.2359 - val_accuracy: 0.8891 - val_loss: 0.2892\n",
      "Epoch 36/100\n",
      "\u001b[1m47/47\u001b[0m \u001b[32m━━━━━━━━━━━━━━━━━━━━\u001b[0m\u001b[37m\u001b[0m \u001b[1m18s\u001b[0m 379ms/step - accuracy: 0.9237 - loss: 0.2287 - val_accuracy: 0.8938 - val_loss: 0.2949\n",
      "Epoch 37/100\n",
      "\u001b[1m47/47\u001b[0m \u001b[32m━━━━━━━━━━━━━━━━━━━━\u001b[0m\u001b[37m\u001b[0m \u001b[1m18s\u001b[0m 379ms/step - accuracy: 0.9295 - loss: 0.2174 - val_accuracy: 0.8935 - val_loss: 0.2883\n",
      "Epoch 38/100\n",
      "\u001b[1m47/47\u001b[0m \u001b[32m━━━━━━━━━━━━━━━━━━━━\u001b[0m\u001b[37m\u001b[0m \u001b[1m18s\u001b[0m 381ms/step - accuracy: 0.9211 - loss: 0.2287 - val_accuracy: 0.8959 - val_loss: 0.2824\n",
      "Epoch 39/100\n",
      "\u001b[1m47/47\u001b[0m \u001b[32m━━━━━━━━━━━━━━━━━━━━\u001b[0m\u001b[37m\u001b[0m \u001b[1m18s\u001b[0m 387ms/step - accuracy: 0.9237 - loss: 0.2247 - val_accuracy: 0.8938 - val_loss: 0.2861\n",
      "Epoch 40/100\n",
      "\u001b[1m47/47\u001b[0m \u001b[32m━━━━━━━━━━━━━━━━━━━━\u001b[0m\u001b[37m\u001b[0m \u001b[1m18s\u001b[0m 379ms/step - accuracy: 0.9266 - loss: 0.2170 - val_accuracy: 0.8965 - val_loss: 0.2837\n",
      "Epoch 41/100\n",
      "\u001b[1m47/47\u001b[0m \u001b[32m━━━━━━━━━━━━━━━━━━━━\u001b[0m\u001b[37m\u001b[0m \u001b[1m18s\u001b[0m 380ms/step - accuracy: 0.9259 - loss: 0.2224 - val_accuracy: 0.8972 - val_loss: 0.2808\n",
      "Epoch 42/100\n",
      "\u001b[1m47/47\u001b[0m \u001b[32m━━━━━━━━━━━━━━━━━━━━\u001b[0m\u001b[37m\u001b[0m \u001b[1m18s\u001b[0m 389ms/step - accuracy: 0.9288 - loss: 0.2157 - val_accuracy: 0.8972 - val_loss: 0.2744\n",
      "Epoch 43/100\n",
      "\u001b[1m47/47\u001b[0m \u001b[32m━━━━━━━━━━━━━━━━━━━━\u001b[0m\u001b[37m\u001b[0m \u001b[1m18s\u001b[0m 383ms/step - accuracy: 0.9296 - loss: 0.2137 - val_accuracy: 0.8982 - val_loss: 0.2768\n",
      "Epoch 44/100\n",
      "\u001b[1m47/47\u001b[0m \u001b[32m━━━━━━━━━━━━━━━━━━━━\u001b[0m\u001b[37m\u001b[0m \u001b[1m18s\u001b[0m 385ms/step - accuracy: 0.9281 - loss: 0.2109 - val_accuracy: 0.9012 - val_loss: 0.2754\n",
      "Epoch 45/100\n",
      "\u001b[1m47/47\u001b[0m \u001b[32m━━━━━━━━━━━━━━━━━━━━\u001b[0m\u001b[37m\u001b[0m \u001b[1m17s\u001b[0m 369ms/step - accuracy: 0.9291 - loss: 0.2099 - val_accuracy: 0.8975 - val_loss: 0.2801\n",
      "Epoch 46/100\n",
      "\u001b[1m47/47\u001b[0m \u001b[32m━━━━━━━━━━━━━━━━━━━━\u001b[0m\u001b[37m\u001b[0m \u001b[1m18s\u001b[0m 379ms/step - accuracy: 0.9300 - loss: 0.2123 - val_accuracy: 0.9016 - val_loss: 0.2707\n",
      "Epoch 47/100\n",
      "\u001b[1m47/47\u001b[0m \u001b[32m━━━━━━━━━━━━━━━━━━━━\u001b[0m\u001b[37m\u001b[0m \u001b[1m18s\u001b[0m 377ms/step - accuracy: 0.9333 - loss: 0.2031 - val_accuracy: 0.9036 - val_loss: 0.2727\n",
      "Epoch 48/100\n",
      "\u001b[1m47/47\u001b[0m \u001b[32m━━━━━━━━━━━━━━━━━━━━\u001b[0m\u001b[37m\u001b[0m \u001b[1m18s\u001b[0m 382ms/step - accuracy: 0.9309 - loss: 0.2070 - val_accuracy: 0.8992 - val_loss: 0.2790\n",
      "Epoch 49/100\n",
      "\u001b[1m47/47\u001b[0m \u001b[32m━━━━━━━━━━━━━━━━━━━━\u001b[0m\u001b[37m\u001b[0m \u001b[1m18s\u001b[0m 384ms/step - accuracy: 0.9322 - loss: 0.2065 - val_accuracy: 0.9002 - val_loss: 0.2731\n",
      "Epoch 50/100\n",
      "\u001b[1m47/47\u001b[0m \u001b[32m━━━━━━━━━━━━━━━━━━━━\u001b[0m\u001b[37m\u001b[0m \u001b[1m18s\u001b[0m 378ms/step - accuracy: 0.9333 - loss: 0.2035 - val_accuracy: 0.8928 - val_loss: 0.2883\n",
      "Epoch 51/100\n",
      "\u001b[1m47/47\u001b[0m \u001b[32m━━━━━━━━━━━━━━━━━━━━\u001b[0m\u001b[37m\u001b[0m \u001b[1m19s\u001b[0m 395ms/step - accuracy: 0.9344 - loss: 0.2007 - val_accuracy: 0.9006 - val_loss: 0.2686\n",
      "Epoch 52/100\n",
      "\u001b[1m47/47\u001b[0m \u001b[32m━━━━━━━━━━━━━━━━━━━━\u001b[0m\u001b[37m\u001b[0m \u001b[1m19s\u001b[0m 400ms/step - accuracy: 0.9343 - loss: 0.1974 - val_accuracy: 0.9002 - val_loss: 0.2702\n",
      "Epoch 53/100\n",
      "\u001b[1m47/47\u001b[0m \u001b[32m━━━━━━━━━━━━━━━━━━━━\u001b[0m\u001b[37m\u001b[0m \u001b[1m19s\u001b[0m 400ms/step - accuracy: 0.9361 - loss: 0.1963 - val_accuracy: 0.9043 - val_loss: 0.2656\n",
      "Epoch 54/100\n",
      "\u001b[1m47/47\u001b[0m \u001b[32m━━━━━━━━━━━━━━━━━━━━\u001b[0m\u001b[37m\u001b[0m \u001b[1m19s\u001b[0m 403ms/step - accuracy: 0.9343 - loss: 0.1950 - val_accuracy: 0.9046 - val_loss: 0.2678\n",
      "Epoch 55/100\n",
      "\u001b[1m47/47\u001b[0m \u001b[32m━━━━━━━━━━━━━━━━━━━━\u001b[0m\u001b[37m\u001b[0m \u001b[1m19s\u001b[0m 409ms/step - accuracy: 0.9356 - loss: 0.1917 - val_accuracy: 0.9063 - val_loss: 0.2636\n",
      "Epoch 56/100\n",
      "\u001b[1m47/47\u001b[0m \u001b[32m━━━━━━━━━━━━━━━━━━━━\u001b[0m\u001b[37m\u001b[0m \u001b[1m19s\u001b[0m 403ms/step - accuracy: 0.9379 - loss: 0.1972 - val_accuracy: 0.9083 - val_loss: 0.2616\n",
      "Epoch 57/100\n",
      "\u001b[1m47/47\u001b[0m \u001b[32m━━━━━━━━━━━━━━━━━━━━\u001b[0m\u001b[37m\u001b[0m \u001b[1m19s\u001b[0m 401ms/step - accuracy: 0.9351 - loss: 0.1990 - val_accuracy: 0.9039 - val_loss: 0.2682\n",
      "Epoch 58/100\n",
      "\u001b[1m47/47\u001b[0m \u001b[32m━━━━━━━━━━━━━━━━━━━━\u001b[0m\u001b[37m\u001b[0m \u001b[1m19s\u001b[0m 400ms/step - accuracy: 0.9362 - loss: 0.1921 - val_accuracy: 0.9060 - val_loss: 0.2600\n",
      "Epoch 59/100\n",
      "\u001b[1m47/47\u001b[0m \u001b[32m━━━━━━━━━━━━━━━━━━━━\u001b[0m\u001b[37m\u001b[0m \u001b[1m19s\u001b[0m 401ms/step - accuracy: 0.9424 - loss: 0.1897 - val_accuracy: 0.9019 - val_loss: 0.2633\n",
      "Epoch 60/100\n",
      "\u001b[1m47/47\u001b[0m \u001b[32m━━━━━━━━━━━━━━━━━━━━\u001b[0m\u001b[37m\u001b[0m \u001b[1m19s\u001b[0m 400ms/step - accuracy: 0.9427 - loss: 0.1827 - val_accuracy: 0.9093 - val_loss: 0.2634\n",
      "Epoch 61/100\n",
      "\u001b[1m47/47\u001b[0m \u001b[32m━━━━━━━━━━━━━━━━━━━━\u001b[0m\u001b[37m\u001b[0m \u001b[1m19s\u001b[0m 399ms/step - accuracy: 0.9396 - loss: 0.1876 - val_accuracy: 0.9016 - val_loss: 0.2644\n",
      "Epoch 62/100\n",
      "\u001b[1m47/47\u001b[0m \u001b[32m━━━━━━━━━━━━━━━━━━━━\u001b[0m\u001b[37m\u001b[0m \u001b[1m18s\u001b[0m 390ms/step - accuracy: 0.9399 - loss: 0.1886 - val_accuracy: 0.9077 - val_loss: 0.2552\n",
      "Epoch 63/100\n",
      "\u001b[1m47/47\u001b[0m \u001b[32m━━━━━━━━━━━━━━━━━━━━\u001b[0m\u001b[37m\u001b[0m \u001b[1m19s\u001b[0m 400ms/step - accuracy: 0.9406 - loss: 0.1846 - val_accuracy: 0.9066 - val_loss: 0.2640\n",
      "Epoch 64/100\n",
      "\u001b[1m47/47\u001b[0m \u001b[32m━━━━━━━━━━━━━━━━━━━━\u001b[0m\u001b[37m\u001b[0m \u001b[1m19s\u001b[0m 402ms/step - accuracy: 0.9387 - loss: 0.1828 - val_accuracy: 0.9033 - val_loss: 0.2642\n",
      "Epoch 65/100\n",
      "\u001b[1m47/47\u001b[0m \u001b[32m━━━━━━━━━━━━━━━━━━━━\u001b[0m\u001b[37m\u001b[0m \u001b[1m19s\u001b[0m 404ms/step - accuracy: 0.9411 - loss: 0.1802 - val_accuracy: 0.9070 - val_loss: 0.2544\n",
      "Epoch 66/100\n",
      "\u001b[1m47/47\u001b[0m \u001b[32m━━━━━━━━━━━━━━━━━━━━\u001b[0m\u001b[37m\u001b[0m \u001b[1m19s\u001b[0m 401ms/step - accuracy: 0.9425 - loss: 0.1782 - val_accuracy: 0.9019 - val_loss: 0.2719\n",
      "Epoch 67/100\n",
      "\u001b[1m47/47\u001b[0m \u001b[32m━━━━━━━━━━━━━━━━━━━━\u001b[0m\u001b[37m\u001b[0m \u001b[1m18s\u001b[0m 391ms/step - accuracy: 0.9422 - loss: 0.1853 - val_accuracy: 0.9006 - val_loss: 0.2704\n",
      "Epoch 68/100\n",
      "\u001b[1m47/47\u001b[0m \u001b[32m━━━━━━━━━━━━━━━━━━━━\u001b[0m\u001b[37m\u001b[0m \u001b[1m18s\u001b[0m 387ms/step - accuracy: 0.9404 - loss: 0.1874 - val_accuracy: 0.9009 - val_loss: 0.2693\n",
      "Epoch 69/100\n",
      "\u001b[1m47/47\u001b[0m \u001b[32m━━━━━━━━━━━━━━━━━━━━\u001b[0m\u001b[37m\u001b[0m \u001b[1m19s\u001b[0m 397ms/step - accuracy: 0.9419 - loss: 0.1795 - val_accuracy: 0.8975 - val_loss: 0.2689\n",
      "Epoch 70/100\n",
      "\u001b[1m47/47\u001b[0m \u001b[32m━━━━━━━━━━━━━━━━━━━━\u001b[0m\u001b[37m\u001b[0m \u001b[1m19s\u001b[0m 409ms/step - accuracy: 0.9446 - loss: 0.1760 - val_accuracy: 0.9103 - val_loss: 0.2574\n",
      "Epoch 71/100\n",
      "\u001b[1m47/47\u001b[0m \u001b[32m━━━━━━━━━━━━━━━━━━━━\u001b[0m\u001b[37m\u001b[0m \u001b[1m19s\u001b[0m 399ms/step - accuracy: 0.9452 - loss: 0.1726 - val_accuracy: 0.9107 - val_loss: 0.2481\n",
      "Epoch 72/100\n",
      "\u001b[1m47/47\u001b[0m \u001b[32m━━━━━━━━━━━━━━━━━━━━\u001b[0m\u001b[37m\u001b[0m \u001b[1m19s\u001b[0m 394ms/step - accuracy: 0.9456 - loss: 0.1724 - val_accuracy: 0.9100 - val_loss: 0.2469\n",
      "Epoch 73/100\n",
      "\u001b[1m47/47\u001b[0m \u001b[32m━━━━━━━━━━━━━━━━━━━━\u001b[0m\u001b[37m\u001b[0m \u001b[1m19s\u001b[0m 398ms/step - accuracy: 0.9500 - loss: 0.1680 - val_accuracy: 0.9070 - val_loss: 0.2520\n",
      "Epoch 74/100\n",
      "\u001b[1m47/47\u001b[0m \u001b[32m━━━━━━━━━━━━━━━━━━━━\u001b[0m\u001b[37m\u001b[0m \u001b[1m18s\u001b[0m 392ms/step - accuracy: 0.9461 - loss: 0.1725 - val_accuracy: 0.9087 - val_loss: 0.2456\n",
      "Epoch 75/100\n",
      "\u001b[1m47/47\u001b[0m \u001b[32m━━━━━━━━━━━━━━━━━━━━\u001b[0m\u001b[37m\u001b[0m \u001b[1m19s\u001b[0m 410ms/step - accuracy: 0.9514 - loss: 0.1666 - val_accuracy: 0.9056 - val_loss: 0.2554\n",
      "Epoch 76/100\n",
      "\u001b[1m47/47\u001b[0m \u001b[32m━━━━━━━━━━━━━━━━━━━━\u001b[0m\u001b[37m\u001b[0m \u001b[1m19s\u001b[0m 395ms/step - accuracy: 0.9484 - loss: 0.1661 - val_accuracy: 0.9124 - val_loss: 0.2515\n",
      "Epoch 77/100\n",
      "\u001b[1m47/47\u001b[0m \u001b[32m━━━━━━━━━━━━━━━━━━━━\u001b[0m\u001b[37m\u001b[0m \u001b[1m18s\u001b[0m 389ms/step - accuracy: 0.9461 - loss: 0.1645 - val_accuracy: 0.9043 - val_loss: 0.2575\n",
      "Epoch 78/100\n",
      "\u001b[1m47/47\u001b[0m \u001b[32m━━━━━━━━━━━━━━━━━━━━\u001b[0m\u001b[37m\u001b[0m \u001b[1m18s\u001b[0m 386ms/step - accuracy: 0.9459 - loss: 0.1692 - val_accuracy: 0.8979 - val_loss: 0.2707\n",
      "Epoch 79/100\n",
      "\u001b[1m47/47\u001b[0m \u001b[32m━━━━━━━━━━━━━━━━━━━━\u001b[0m\u001b[37m\u001b[0m \u001b[1m19s\u001b[0m 405ms/step - accuracy: 0.9535 - loss: 0.1569 - val_accuracy: 0.8986 - val_loss: 0.2695\n",
      "Epoch 80/100\n",
      "\u001b[1m47/47\u001b[0m \u001b[32m━━━━━━━━━━━━━━━━━━━━\u001b[0m\u001b[37m\u001b[0m \u001b[1m19s\u001b[0m 398ms/step - accuracy: 0.9492 - loss: 0.1602 - val_accuracy: 0.9019 - val_loss: 0.2602\n",
      "Epoch 81/100\n",
      "\u001b[1m47/47\u001b[0m \u001b[32m━━━━━━━━━━━━━━━━━━━━\u001b[0m\u001b[37m\u001b[0m \u001b[1m18s\u001b[0m 392ms/step - accuracy: 0.9486 - loss: 0.1643 - val_accuracy: 0.9110 - val_loss: 0.2476\n",
      "Epoch 82/100\n",
      "\u001b[1m47/47\u001b[0m \u001b[32m━━━━━━━━━━━━━━━━━━━━\u001b[0m\u001b[37m\u001b[0m \u001b[1m18s\u001b[0m 385ms/step - accuracy: 0.9486 - loss: 0.1629 - val_accuracy: 0.9070 - val_loss: 0.2524\n",
      "Epoch 83/100\n",
      "\u001b[1m47/47\u001b[0m \u001b[32m━━━━━━━━━━━━━━━━━━━━\u001b[0m\u001b[37m\u001b[0m \u001b[1m18s\u001b[0m 381ms/step - accuracy: 0.9538 - loss: 0.1589 - val_accuracy: 0.9154 - val_loss: 0.2411\n",
      "Epoch 84/100\n",
      "\u001b[1m47/47\u001b[0m \u001b[32m━━━━━━━━━━━━━━━━━━━━\u001b[0m\u001b[37m\u001b[0m \u001b[1m18s\u001b[0m 380ms/step - accuracy: 0.9525 - loss: 0.1534 - val_accuracy: 0.9114 - val_loss: 0.2507\n",
      "Epoch 85/100\n",
      "\u001b[1m47/47\u001b[0m \u001b[32m━━━━━━━━━━━━━━━━━━━━\u001b[0m\u001b[37m\u001b[0m \u001b[1m18s\u001b[0m 381ms/step - accuracy: 0.9515 - loss: 0.1566 - val_accuracy: 0.9110 - val_loss: 0.2422\n",
      "Epoch 86/100\n",
      "\u001b[1m47/47\u001b[0m \u001b[32m━━━━━━━━━━━━━━━━━━━━\u001b[0m\u001b[37m\u001b[0m \u001b[1m18s\u001b[0m 383ms/step - accuracy: 0.9526 - loss: 0.1581 - val_accuracy: 0.9147 - val_loss: 0.2378\n",
      "Epoch 87/100\n",
      "\u001b[1m47/47\u001b[0m \u001b[32m━━━━━━━━━━━━━━━━━━━━\u001b[0m\u001b[37m\u001b[0m \u001b[1m18s\u001b[0m 380ms/step - accuracy: 0.9540 - loss: 0.1530 - val_accuracy: 0.9117 - val_loss: 0.2403\n",
      "Epoch 88/100\n",
      "\u001b[1m47/47\u001b[0m \u001b[32m━━━━━━━━━━━━━━━━━━━━\u001b[0m\u001b[37m\u001b[0m \u001b[1m18s\u001b[0m 380ms/step - accuracy: 0.9513 - loss: 0.1562 - val_accuracy: 0.9090 - val_loss: 0.2436\n",
      "Epoch 89/100\n",
      "\u001b[1m47/47\u001b[0m \u001b[32m━━━━━━━━━━━━━━━━━━━━\u001b[0m\u001b[37m\u001b[0m \u001b[1m18s\u001b[0m 379ms/step - accuracy: 0.9472 - loss: 0.1553 - val_accuracy: 0.9151 - val_loss: 0.2379\n",
      "Epoch 90/100\n",
      "\u001b[1m47/47\u001b[0m \u001b[32m━━━━━━━━━━━━━━━━━━━━\u001b[0m\u001b[37m\u001b[0m \u001b[1m18s\u001b[0m 382ms/step - accuracy: 0.9534 - loss: 0.1522 - val_accuracy: 0.9137 - val_loss: 0.2398\n",
      "Epoch 91/100\n",
      "\u001b[1m47/47\u001b[0m \u001b[32m━━━━━━━━━━━━━━━━━━━━\u001b[0m\u001b[37m\u001b[0m \u001b[1m20s\u001b[0m 379ms/step - accuracy: 0.9523 - loss: 0.1480 - val_accuracy: 0.9120 - val_loss: 0.2383\n",
      "Epoch 92/100\n",
      "\u001b[1m47/47\u001b[0m \u001b[32m━━━━━━━━━━━━━━━━━━━━\u001b[0m\u001b[37m\u001b[0m \u001b[1m18s\u001b[0m 383ms/step - accuracy: 0.9504 - loss: 0.1536 - val_accuracy: 0.9100 - val_loss: 0.2388\n",
      "Epoch 93/100\n",
      "\u001b[1m47/47\u001b[0m \u001b[32m━━━━━━━━━━━━━━━━━━━━\u001b[0m\u001b[37m\u001b[0m \u001b[1m18s\u001b[0m 383ms/step - accuracy: 0.9548 - loss: 0.1524 - val_accuracy: 0.9157 - val_loss: 0.2388\n",
      "Epoch 94/100\n",
      "\u001b[1m47/47\u001b[0m \u001b[32m━━━━━━━━━━━━━━━━━━━━\u001b[0m\u001b[37m\u001b[0m \u001b[1m18s\u001b[0m 379ms/step - accuracy: 0.9509 - loss: 0.1559 - val_accuracy: 0.9127 - val_loss: 0.2345\n",
      "Epoch 95/100\n",
      "\u001b[1m47/47\u001b[0m \u001b[32m━━━━━━━━━━━━━━━━━━━━\u001b[0m\u001b[37m\u001b[0m \u001b[1m18s\u001b[0m 382ms/step - accuracy: 0.9581 - loss: 0.1427 - val_accuracy: 0.9151 - val_loss: 0.2363\n",
      "Epoch 96/100\n",
      "\u001b[1m47/47\u001b[0m \u001b[32m━━━━━━━━━━━━━━━━━━━━\u001b[0m\u001b[37m\u001b[0m \u001b[1m18s\u001b[0m 382ms/step - accuracy: 0.9535 - loss: 0.1498 - val_accuracy: 0.9191 - val_loss: 0.2336\n",
      "Epoch 97/100\n",
      "\u001b[1m47/47\u001b[0m \u001b[32m━━━━━━━━━━━━━━━━━━━━\u001b[0m\u001b[37m\u001b[0m \u001b[1m18s\u001b[0m 381ms/step - accuracy: 0.9555 - loss: 0.1460 - val_accuracy: 0.9147 - val_loss: 0.2435\n",
      "Epoch 98/100\n",
      "\u001b[1m47/47\u001b[0m \u001b[32m━━━━━━━━━━━━━━━━━━━━\u001b[0m\u001b[37m\u001b[0m \u001b[1m18s\u001b[0m 383ms/step - accuracy: 0.9563 - loss: 0.1424 - val_accuracy: 0.9087 - val_loss: 0.2433\n",
      "Epoch 99/100\n",
      "\u001b[1m47/47\u001b[0m \u001b[32m━━━━━━━━━━━━━━━━━━━━\u001b[0m\u001b[37m\u001b[0m \u001b[1m18s\u001b[0m 380ms/step - accuracy: 0.9556 - loss: 0.1469 - val_accuracy: 0.9157 - val_loss: 0.2407\n",
      "Epoch 100/100\n",
      "\u001b[1m47/47\u001b[0m \u001b[32m━━━━━━━━━━━━━━━━━━━━\u001b[0m\u001b[37m\u001b[0m \u001b[1m18s\u001b[0m 382ms/step - accuracy: 0.9522 - loss: 0.1490 - val_accuracy: 0.9137 - val_loss: 0.2333\n"
     ]
    },
    {
     "data": {
      "text/plain": [
       "<keras.src.callbacks.history.History at 0x1a22aa64b60>"
      ]
     },
     "execution_count": 66,
     "metadata": {},
     "output_type": "execute_result"
    }
   ],
   "source": [
    "\n",
    "#Train the model\n",
    "model.fit(X_train_t,y_train, epochs=num_epochs, validation_data=(X_test_t, y_test), batch_size=batch_size)"
   ]
  },
  {
   "cell_type": "code",
   "execution_count": 82,
   "id": "b6f1cdea",
   "metadata": {},
   "outputs": [
    {
     "name": "stdout",
     "output_type": "stream",
     "text": [
      "INFO:tensorflow:Assets written to: C:\\Users\\alexa\\AppData\\Local\\Temp\\tmphn24ud6k\\assets\n"
     ]
    },
    {
     "name": "stderr",
     "output_type": "stream",
     "text": [
      "INFO:tensorflow:Assets written to: C:\\Users\\alexa\\AppData\\Local\\Temp\\tmphn24ud6k\\assets\n"
     ]
    },
    {
     "name": "stdout",
     "output_type": "stream",
     "text": [
      "Saved artifact at 'C:\\Users\\alexa\\AppData\\Local\\Temp\\tmphn24ud6k'. The following endpoints are available:\n",
      "\n",
      "* Endpoint 'serve'\n",
      "  args_0 (POSITIONAL_ONLY): TensorSpec(shape=(None, 40, 250, 1), dtype=tf.float32, name=None)\n",
      "Output Type:\n",
      "  TensorSpec(shape=(None, 3), dtype=tf.float32, name=None)\n",
      "Captures:\n",
      "  1796014112016: TensorSpec(shape=(), dtype=tf.resource, name=None)\n",
      "  1796014112592: TensorSpec(shape=(), dtype=tf.resource, name=None)\n",
      "  1796014110096: TensorSpec(shape=(), dtype=tf.resource, name=None)\n",
      "  1796014110480: TensorSpec(shape=(), dtype=tf.resource, name=None)\n",
      "  1796014111632: TensorSpec(shape=(), dtype=tf.resource, name=None)\n",
      "  1796014112400: TensorSpec(shape=(), dtype=tf.resource, name=None)\n",
      "  1796014112208: TensorSpec(shape=(), dtype=tf.resource, name=None)\n",
      "  1796014916432: TensorSpec(shape=(), dtype=tf.resource, name=None)\n",
      "INFO:tensorflow:Assets written to: C:\\Users\\alexa\\AppData\\Local\\Temp\\tmp5gknyi_a\\assets\n"
     ]
    },
    {
     "name": "stderr",
     "output_type": "stream",
     "text": [
      "INFO:tensorflow:Assets written to: C:\\Users\\alexa\\AppData\\Local\\Temp\\tmp5gknyi_a\\assets\n"
     ]
    },
    {
     "name": "stdout",
     "output_type": "stream",
     "text": [
      "Saved artifact at 'C:\\Users\\alexa\\AppData\\Local\\Temp\\tmp5gknyi_a'. The following endpoints are available:\n",
      "\n",
      "* Endpoint 'serve'\n",
      "  args_0 (POSITIONAL_ONLY): TensorSpec(shape=(None, 40, 250, 1), dtype=tf.float32, name=None)\n",
      "Output Type:\n",
      "  TensorSpec(shape=(None, 3), dtype=tf.float32, name=None)\n",
      "Captures:\n",
      "  1796014112016: TensorSpec(shape=(), dtype=tf.resource, name=None)\n",
      "  1796014112592: TensorSpec(shape=(), dtype=tf.resource, name=None)\n",
      "  1796014110096: TensorSpec(shape=(), dtype=tf.resource, name=None)\n",
      "  1796014110480: TensorSpec(shape=(), dtype=tf.resource, name=None)\n",
      "  1796014111632: TensorSpec(shape=(), dtype=tf.resource, name=None)\n",
      "  1796014112400: TensorSpec(shape=(), dtype=tf.resource, name=None)\n",
      "  1796014112208: TensorSpec(shape=(), dtype=tf.resource, name=None)\n",
      "  1796014916432: TensorSpec(shape=(), dtype=tf.resource, name=None)\n"
     ]
    }
   ],
   "source": [
    "# 1. Save as a standard Keras SavedModel\n",
    "model.save(\"keyword_spotting_model.keras\")\n",
    "\n",
    "# 2. Convert to TFLite\n",
    "import tensorflow as tf\n",
    "\n",
    "converter = tf.lite.TFLiteConverter.from_keras_model(model)\n",
    "#this is a quantization step\n",
    "tflite_model = converter.convert()\n",
    "\n",
    "# 3. Write the TFLite model to a file\n",
    "with open(\"keyword_spotting_model.tflite\", \"wb\") as f:\n",
    "    f.write(tflite_model)\n",
    "\n",
    "\n",
    "converter = tf.lite.TFLiteConverter.from_keras_model(model)\n",
    "#this is a quantization step\n",
    "converter.optimizations = [tf.lite.Optimize.DEFAULT] \n",
    "tflite_model = converter.convert()\n",
    "\n",
    "# 3. Write the TFLite model to a file\n",
    "with open(\"keyword_spotting_model-q.tflite\", \"wb\") as f:\n",
    "    f.write(tflite_model)"
   ]
  },
  {
   "cell_type": "code",
   "execution_count": 79,
   "id": "b5681399",
   "metadata": {},
   "outputs": [
    {
     "name": "stdout",
     "output_type": "stream",
     "text": [
      "\u001b[1m1/1\u001b[0m \u001b[32m━━━━━━━━━━━━━━━━━━━━\u001b[0m\u001b[37m\u001b[0m \u001b[1m0s\u001b[0m 29ms/step\n"
     ]
    },
    {
     "data": {
      "text/plain": [
       "array([[0.01933353, 0.00496708, 0.9756993 ]], dtype=float32)"
      ]
     },
     "execution_count": 79,
     "metadata": {},
     "output_type": "execute_result"
    }
   ],
   "source": [
    "output=model.predict(X_test_t[2:3])\n",
    "output"
   ]
  },
  {
   "cell_type": "code",
   "execution_count": 80,
   "id": "a3586908",
   "metadata": {},
   "outputs": [
    {
     "data": {
      "text/plain": [
       "array(['stop'], dtype=object)"
      ]
     },
     "execution_count": 80,
     "metadata": {},
     "output_type": "execute_result"
    }
   ],
   "source": [
    "label_encoder.inverse_transform([np.argmax(output[0])])"
   ]
  },
  {
   "cell_type": "code",
   "execution_count": 81,
   "id": "18b0686a",
   "metadata": {},
   "outputs": [
    {
     "data": {
      "text/plain": [
       "array(['alfred', 'other', 'stop'], dtype=object)"
      ]
     },
     "execution_count": 81,
     "metadata": {},
     "output_type": "execute_result"
    }
   ],
   "source": [
    "label_encoder.classes_"
   ]
  },
  {
   "cell_type": "code",
   "execution_count": 83,
   "id": "fcac8b0d",
   "metadata": {},
   "outputs": [],
   "source": [
    "import socket\n",
    "import json\n",
    "\n",
    "# Global socket variable\n",
    "_jdetect_socket = None\n",
    "\n",
    "def _get_jdetect_socket():\n",
    "    global _jdetect_socket\n",
    "    HOST = '127.0.0.1'\n",
    "    PORT = 5555\n",
    "    if _jdetect_socket is None:\n",
    "        _jdetect_socket = socket.create_connection((HOST, PORT))\n",
    "    return _jdetect_socket\n",
    "\n",
    "def jdetect_mfcc(double_array, sample_rate=16000):\n",
    "    \"\"\"\n",
    "    Sends an array of doubles as JSON to a persistent TCP socket on localhost:5555,\n",
    "    and returns the parsed JSON output from the socket.\n",
    "    \"\"\"\n",
    "    input_json = json.dumps({\"waveform\":double_array,\"sample_rate\":sample_rate})\n",
    "    try:\n",
    "        sock = _get_jdetect_socket()\n",
    "        sock.sendall(input_json.encode('utf-8') + b'\\n'+b'\\n')\n",
    "        received = b''\n",
    "        while True:\n",
    "            chunk = sock.recv(4096)\n",
    "            if not chunk:\n",
    "                break\n",
    "            received += chunk\n",
    "            if b'\\n' in chunk:\n",
    "                break\n",
    "        received = received.strip()\n",
    "        return json.loads(received.decode('utf-8'))\n",
    "    except Exception as e:\n",
    "        print(f\"Error using persistent TCP socket: {e}\")\n",
    "        # Reset socket on error\n",
    "        global _jdetect_socket\n",
    "        if _jdetect_socket is not None:\n",
    "            try:\n",
    "                _jdetect_socket.close()\n",
    "            except Exception:\n",
    "                pass\n",
    "            _jdetect_socket = None\n",
    "        return None\n"
   ]
  },
  {
   "cell_type": "code",
   "execution_count": 87,
   "id": "f0c8400d",
   "metadata": {},
   "outputs": [
    {
     "name": "stdout",
     "output_type": "stream",
     "text": [
      "Read 65494 bytes of PCM data from samples/hello_alfred6.wav (after skipping header)\n",
      "length of PCM data: 32747.0\n",
      "First 10 PCM values: [-30, -37, -33, -29, -26, -20, -16, -7, -3, 6]\n"
     ]
    }
   ],
   "source": [
    "wav_path = \"samples/hello_alfred6.wav\"\n",
    "import numpy as np\n",
    "with open(wav_path, \"rb\") as f:\n",
    "        f.seek(44+17*2)  # Skip the 44-byte WAV header\n",
    "        pcm_data = f.read()\n",
    "\n",
    "print(f\"Read {len(pcm_data)} bytes of PCM data from {wav_path} (after skipping header)\")\n",
    "print(f\"length of PCM data: {len(pcm_data)/2}\")\n",
    "\n",
    "sr =16000\n",
    "\n",
    "\n",
    "#print(pcm_data[:10])  # Print the first 10 bytes of PCM data for debugging\n",
    "# Convert the pcm data to a list of integers\n",
    "pcm_values = []\n",
    "for i in range(0, len(pcm_data), 2):\n",
    "    # Unpack each 16-bit PCM value (little-endian)\n",
    "    pcm_value = int.from_bytes(pcm_data[i:i+2], byteorder='little', signed=True)\n",
    "    pcm_values.append(pcm_value)\n",
    "print(f\"First 10 PCM values: {pcm_values[:10]}\")  # Print the first 10 PCM values for debugging\n",
    "\n",
    "waveform = np.array(pcm_values, dtype=np.int16)\n",
    "# Convert to float32\n",
    "waveform = waveform.astype(np.float32) / 32768.0  # Normalize to [-1, 1]\n",
    "# Compute MFCCs"
   ]
  },
  {
   "cell_type": "code",
   "execution_count": 95,
   "id": "64b3b412",
   "metadata": {},
   "outputs": [
    {
     "name": "stdout",
     "output_type": "stream",
     "text": [
      "waveform before jdetect_mfcc: [-9.1552734e-04 -1.1291504e-03 -1.0070801e-03 ... -1.5258789e-04\n",
      "  6.1035156e-05  1.2207031e-04] \n"
     ]
    },
    {
     "data": {
      "text/plain": [
       "array([65.71024 , 64.899055, 62.475754, 58.75968 , 54.112823, 49.109306,\n",
       "       44.226913, 39.52972 , 35.327145, 32.017933])"
      ]
     },
     "execution_count": 95,
     "metadata": {},
     "output_type": "execute_result"
    }
   ],
   "source": [
    "\n",
    "print(f\"waveform before jdetect_mfcc: {waveform} \")\n",
    "spectrogram=jdetect_mfcc(waveform.tolist())\n",
    "spectrogram = np.array(spectrogram)\n",
    "spectrogram[0][0:10]\n",
    "spectrogram[1][0:10]\n",
    "#spectrogram3[39][0:10]"
   ]
  },
  {
   "cell_type": "code",
   "execution_count": 96,
   "id": "f8aeb28c",
   "metadata": {},
   "outputs": [
    {
     "data": {
      "text/plain": [
       "(40, 205)"
      ]
     },
     "execution_count": 96,
     "metadata": {},
     "output_type": "execute_result"
    }
   ],
   "source": [
    "spectrogram.shape"
   ]
  },
  {
   "cell_type": "code",
   "execution_count": 97,
   "id": "5eec26ff",
   "metadata": {},
   "outputs": [],
   "source": [
    "if spectrogram.shape[1] < MAX_LENGTH:\n",
    "        pad_width = MAX_LENGTH - spectrogram.shape[1]\n",
    "        spectrogram = np.pad(spectrogram, ((0, 0), (0, pad_width)), mode='constant')\n",
    "else:\n",
    "        spectrogram = spectrogram[:, :MAX_LENGTH]"
   ]
  },
  {
   "cell_type": "code",
   "execution_count": 99,
   "id": "db7b3adf",
   "metadata": {},
   "outputs": [
    {
     "data": {
      "text/plain": [
       "TensorShape([1, 40, 250, 1])"
      ]
     },
     "execution_count": 99,
     "metadata": {},
     "output_type": "execute_result"
    }
   ],
   "source": [
    "input_tensor = tf.convert_to_tensor(spectrogram, dtype=tf.float32)\n",
    "input_tensor = tf.expand_dims(input_tensor, axis=0)  # Add batch dimension\n",
    "input_tensor = tf.expand_dims(input_tensor, axis=-1)  # Add channel dimension\n",
    "input_tensor.shape"
   ]
  },
  {
   "cell_type": "code",
   "execution_count": 102,
   "id": "8ac1a2e1",
   "metadata": {},
   "outputs": [
    {
     "name": "stdout",
     "output_type": "stream",
     "text": [
      "\u001b[1m1/1\u001b[0m \u001b[32m━━━━━━━━━━━━━━━━━━━━\u001b[0m\u001b[37m\u001b[0m \u001b[1m0s\u001b[0m 30ms/step\n"
     ]
    },
    {
     "data": {
      "text/plain": [
       "array([[9.3416196e-01, 6.5771736e-02, 6.6332766e-05]], dtype=float32)"
      ]
     },
     "execution_count": 102,
     "metadata": {},
     "output_type": "execute_result"
    }
   ],
   "source": [
    "model.predict(input_tensor)"
   ]
  },
  {
   "cell_type": "code",
   "execution_count": null,
   "id": "a98bf3f6",
   "metadata": {},
   "outputs": [],
   "source": [
    "asd"
   ]
  }
 ],
 "metadata": {
  "kernelspec": {
   "display_name": "venv",
   "language": "python",
   "name": "python3"
  },
  "language_info": {
   "codemirror_mode": {
    "name": "ipython",
    "version": 3
   },
   "file_extension": ".py",
   "mimetype": "text/x-python",
   "name": "python",
   "nbconvert_exporter": "python",
   "pygments_lexer": "ipython3",
   "version": "3.12.10"
  }
 },
 "nbformat": 4,
 "nbformat_minor": 5
}
